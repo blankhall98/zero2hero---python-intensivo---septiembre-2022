{
 "cells": [
  {
   "cell_type": "markdown",
   "metadata": {},
   "source": [
    "# Programación Orientada a Objetos"
   ]
  },
  {
   "cell_type": "code",
   "execution_count": 1,
   "metadata": {},
   "outputs": [],
   "source": [
    "#variables\n",
    "x = 5"
   ]
  },
  {
   "cell_type": "code",
   "execution_count": 2,
   "metadata": {},
   "outputs": [],
   "source": [
    "#funciones\n",
    "def saludar(nombre,tiempo):\n",
    "    print(f'Buenas {tiempo}, {nombre}')"
   ]
  },
  {
   "cell_type": "code",
   "execution_count": 3,
   "metadata": {},
   "outputs": [
    {
     "name": "stdout",
     "output_type": "stream",
     "text": [
      "Buenas Noches, Jonatan\n"
     ]
    }
   ],
   "source": [
    "saludar('Jonatan','Noches')"
   ]
  },
  {
   "cell_type": "markdown",
   "metadata": {},
   "source": [
    "#### Clases"
   ]
  },
  {
   "cell_type": "markdown",
   "metadata": {},
   "source": [
    "Atributos únicos de un perro\n",
    "\n",
    "- raza\n",
    "- tamaño\n",
    "- nombre \n",
    "- color"
   ]
  },
  {
   "cell_type": "code",
   "execution_count": 12,
   "metadata": {},
   "outputs": [],
   "source": [
    "class Perro:\n",
    "    \n",
    "    def __init__(self,nombre,raza,tamaño,color):\n",
    "        self.nombre = nombre\n",
    "        self.raza = raza\n",
    "        self.tamaño = tamaño\n",
    "        self.color = color\n",
    "    \n",
    "    def ladrar(self):\n",
    "        return 'guau guau'\n",
    "    \n",
    "    def gruñir(self):\n",
    "        return 'grrrrrr'"
   ]
  },
  {
   "cell_type": "code",
   "execution_count": 19,
   "metadata": {},
   "outputs": [],
   "source": [
    "#inicializar una clase\n",
    "perro1 = Perro('firulais','salchicha','pequeño','cafe')\n",
    "perro2 = Perro('max','labrador','grande','dorado')"
   ]
  },
  {
   "cell_type": "code",
   "execution_count": 24,
   "metadata": {},
   "outputs": [
    {
     "name": "stdout",
     "output_type": "stream",
     "text": [
      "Te presento a mi perro firulais, su raza es salchicha, como puedes ver es un perro muy pequeño\n"
     ]
    }
   ],
   "source": [
    "print(f'Te presento a mi perro {perro1.nombre}, su raza es {perro1.raza}, como puedes ver es un perro muy {perro1.tamaño}')"
   ]
  },
  {
   "cell_type": "code",
   "execution_count": 23,
   "metadata": {},
   "outputs": [
    {
     "data": {
      "text/plain": [
       "'max'"
      ]
     },
     "execution_count": 23,
     "metadata": {},
     "output_type": "execute_result"
    }
   ],
   "source": [
    "perro2.nombre"
   ]
  },
  {
   "cell_type": "markdown",
   "metadata": {},
   "source": [
    "### VideoJuego de Naruto"
   ]
  },
  {
   "cell_type": "code",
   "execution_count": 28,
   "metadata": {},
   "outputs": [],
   "source": [
    "import numpy as np"
   ]
  },
  {
   "cell_type": "code",
   "execution_count": 87,
   "metadata": {},
   "outputs": [
    {
     "data": {
      "text/plain": [
       "6"
      ]
     },
     "execution_count": 87,
     "metadata": {},
     "output_type": "execute_result"
    }
   ],
   "source": [
    "np.random.randint(5,10)"
   ]
  },
  {
   "cell_type": "code",
   "execution_count": 111,
   "metadata": {},
   "outputs": [],
   "source": [
    "class Ninja:\n",
    "    \n",
    "    def __init__(self,nombre,vida,rango_ataque):\n",
    "        self.name = nombre\n",
    "        self.hp = vida\n",
    "        self.attack_range = rango_ataque\n",
    "        \n",
    "    def presentarse(self):\n",
    "        print(f'Mi nombre es {self.name}')\n",
    "        \n",
    "    def atacar(self):\n",
    "        attack = np.random.randint(self.attack_range[0],self.attack_range[1])\n",
    "        print(f'{self.name} ataco: {attack} PDV')\n",
    "        return attack\n",
    "    \n",
    "    def recibir_daño(self,daño):\n",
    "        self.hp = self.hp - daño"
   ]
  },
  {
   "cell_type": "markdown",
   "metadata": {},
   "source": [
    "Creación de Personajes"
   ]
  },
  {
   "cell_type": "code",
   "execution_count": 116,
   "metadata": {},
   "outputs": [],
   "source": [
    "naruto = Ninja('Naruto Uzumaki',150,[10,40])\n",
    "sasuke = Ninja('Sasuke Uchiha',140,[25,35])\n",
    "gaara = Ninja('Gaara',200,[5,20])"
   ]
  },
  {
   "cell_type": "markdown",
   "metadata": {},
   "source": [
    "Interacción de Clases"
   ]
  },
  {
   "cell_type": "code",
   "execution_count": 117,
   "metadata": {},
   "outputs": [
    {
     "name": "stdout",
     "output_type": "stream",
     "text": [
      "Gaara ataco: 18 PDV\n",
      "Naruto Uzumaki ataco: 35 PDV\n",
      "Gaara ataco: 8 PDV\n",
      "Naruto Uzumaki ataco: 22 PDV\n",
      "Gaara ataco: 8 PDV\n",
      "Naruto Uzumaki ataco: 15 PDV\n",
      "Gaara ataco: 12 PDV\n",
      "Naruto Uzumaki ataco: 21 PDV\n",
      "Gaara ataco: 16 PDV\n",
      "Naruto Uzumaki ataco: 32 PDV\n",
      "Gaara ataco: 18 PDV\n",
      "Naruto Uzumaki ataco: 16 PDV\n",
      "Gaara ataco: 17 PDV\n",
      "Naruto Uzumaki ataco: 37 PDV\n",
      "Gaara ataco: 18 PDV\n",
      "Naruto Uzumaki ataco: 31 PDV\n",
      "Ganador: Naruto Uzumaki\n"
     ]
    }
   ],
   "source": [
    "ninja1 = gaara\n",
    "ninja2 = naruto\n",
    "\n",
    "while ninja1.hp > 0 and ninja2.hp > 0:\n",
    "    \n",
    "    #turno ninja 1\n",
    "    ataque1 = ninja1.atacar()\n",
    "    ninja2.recibir_daño(ataque1)\n",
    "    \n",
    "    #turno ninja 2\n",
    "    ataque2 = ninja2.atacar()\n",
    "    ninja1.recibir_daño(ataque2)\n",
    "    \n",
    "#resultados\n",
    "if ninja1.hp <= 0:\n",
    "    print(f'Ganador: {ninja2.name}')\n",
    "elif ninja2.hp <= 0:\n",
    "    print(f'Ganador: {ninja1.name}')"
   ]
  }
 ],
 "metadata": {
  "kernelspec": {
   "display_name": "Python 3",
   "language": "python",
   "name": "python3"
  },
  "language_info": {
   "codemirror_mode": {
    "name": "ipython",
    "version": 3
   },
   "file_extension": ".py",
   "mimetype": "text/x-python",
   "name": "python",
   "nbconvert_exporter": "python",
   "pygments_lexer": "ipython3",
   "version": "3.8.5"
  }
 },
 "nbformat": 4,
 "nbformat_minor": 4
}
