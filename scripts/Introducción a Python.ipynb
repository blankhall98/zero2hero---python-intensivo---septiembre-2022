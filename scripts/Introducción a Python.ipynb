{
 "cells": [
  {
   "cell_type": "markdown",
   "metadata": {},
   "source": [
    "# Introducción a Python\n",
    "\n",
    "### Un curso original de zero2hero\n",
    "\n",
    "##### Aprende a programar desde cero y cumple tus metas!"
   ]
  },
  {
   "cell_type": "markdown",
   "metadata": {},
   "source": [
    "¿Cómo vamos a almacenar información en nuestra computadora? ...\n",
    "\n",
    "#### ¡Variables!"
   ]
  },
  {
   "cell_type": "code",
   "execution_count": 1,
   "metadata": {},
   "outputs": [],
   "source": [
    "nombre = 'Jonatan'\n",
    "apellido = 'Blank'\n",
    "edad = 24\n",
    "sexo = 'M'"
   ]
  },
  {
   "cell_type": "code",
   "execution_count": 13,
   "metadata": {},
   "outputs": [
    {
     "name": "stdout",
     "output_type": "stream",
     "text": [
      "Buenos días Jonatan Blank\n"
     ]
    }
   ],
   "source": [
    "#concatenación de cadenas\n",
    "print('Buenos días '+nombre+' '+apellido)"
   ]
  },
  {
   "cell_type": "code",
   "execution_count": 6,
   "metadata": {},
   "outputs": [
    {
     "name": "stdout",
     "output_type": "stream",
     "text": [
      "Buenos días Jonatan Blank de 24 años de edad\n"
     ]
    }
   ],
   "source": [
    "# f-strings\n",
    "print(f'Buenos días {nombre} {apellido} de {edad} años de edad')"
   ]
  },
  {
   "cell_type": "markdown",
   "metadata": {},
   "source": [
    "tipos de variable"
   ]
  },
  {
   "cell_type": "code",
   "execution_count": 10,
   "metadata": {},
   "outputs": [],
   "source": [
    "var1 = 'hola :D'\n",
    "var2 = 33"
   ]
  },
  {
   "cell_type": "code",
   "execution_count": 11,
   "metadata": {},
   "outputs": [
    {
     "data": {
      "text/plain": [
       "str"
      ]
     },
     "execution_count": 11,
     "metadata": {},
     "output_type": "execute_result"
    }
   ],
   "source": [
    "type(var1)"
   ]
  },
  {
   "cell_type": "code",
   "execution_count": 12,
   "metadata": {},
   "outputs": [
    {
     "data": {
      "text/plain": [
       "int"
      ]
     },
     "execution_count": 12,
     "metadata": {},
     "output_type": "execute_result"
    }
   ],
   "source": [
    "type(var2)"
   ]
  },
  {
   "cell_type": "markdown",
   "metadata": {},
   "source": [
    "#### Operaciones Matemáticas"
   ]
  },
  {
   "cell_type": "code",
   "execution_count": 14,
   "metadata": {},
   "outputs": [],
   "source": [
    "a = 10\n",
    "b = -5\n",
    "c = 0.1\n",
    "d = 1.23456789"
   ]
  },
  {
   "cell_type": "markdown",
   "metadata": {},
   "source": [
    "PEMDAS = Parentesis - Exponente - Multiplicación - Division - Adición - Substracción"
   ]
  },
  {
   "cell_type": "code",
   "execution_count": 17,
   "metadata": {},
   "outputs": [
    {
     "data": {
      "text/plain": [
       "5.1"
      ]
     },
     "execution_count": 17,
     "metadata": {},
     "output_type": "execute_result"
    }
   ],
   "source": [
    "(a+b)+c"
   ]
  },
  {
   "cell_type": "code",
   "execution_count": 21,
   "metadata": {},
   "outputs": [
    {
     "data": {
      "text/plain": [
       "-50"
      ]
     },
     "execution_count": 21,
     "metadata": {},
     "output_type": "execute_result"
    }
   ],
   "source": [
    "a*b"
   ]
  },
  {
   "cell_type": "code",
   "execution_count": 22,
   "metadata": {},
   "outputs": [
    {
     "data": {
      "text/plain": [
       "-2.0"
      ]
     },
     "execution_count": 22,
     "metadata": {},
     "output_type": "execute_result"
    }
   ],
   "source": [
    "a/b"
   ]
  },
  {
   "cell_type": "code",
   "execution_count": 24,
   "metadata": {},
   "outputs": [
    {
     "data": {
      "text/plain": [
       "1.2589254117941673"
      ]
     },
     "execution_count": 24,
     "metadata": {},
     "output_type": "execute_result"
    }
   ],
   "source": [
    "a**c"
   ]
  },
  {
   "cell_type": "code",
   "execution_count": 25,
   "metadata": {},
   "outputs": [
    {
     "data": {
      "text/plain": [
       "1"
      ]
     },
     "execution_count": 25,
     "metadata": {},
     "output_type": "execute_result"
    }
   ],
   "source": [
    "10%3"
   ]
  },
  {
   "cell_type": "markdown",
   "metadata": {},
   "source": [
    "Hagamos un ejemplo con modulo..."
   ]
  },
  {
   "cell_type": "code",
   "execution_count": 36,
   "metadata": {},
   "outputs": [
    {
     "name": "stdout",
     "output_type": "stream",
     "text": [
      "Número total de rebanadas: 40 rebanadas\n",
      "Rebanadas sobrantes: 0 rebanadas\n"
     ]
    }
   ],
   "source": [
    "numero_amigos = 5\n",
    "\n",
    "rebanadas_x_pizza = 8\n",
    "\n",
    "# ¿cúantas pizzas debo ordenar para que todos coman igual y no sobre nada?\n",
    "\n",
    "numero_pizzas = 5\n",
    "\n",
    "rebanadas_totales = numero_pizzas * rebanadas_x_pizza\n",
    "print(f'Número total de rebanadas: {rebanadas_totales} rebanadas')\n",
    "\n",
    "rebanadas_sobrantes = rebanadas_totales%numero_amigos\n",
    "print(f'Rebanadas sobrantes: {rebanadas_sobrantes} rebanadas')"
   ]
  },
  {
   "cell_type": "markdown",
   "metadata": {},
   "source": [
    "#### Operaciones Lógicas"
   ]
  },
  {
   "cell_type": "markdown",
   "metadata": {},
   "source": [
    "Valores Verdad-Mentira --- Valores Booleanos"
   ]
  },
  {
   "cell_type": "code",
   "execution_count": 39,
   "metadata": {},
   "outputs": [
    {
     "data": {
      "text/plain": [
       "False"
      ]
     },
     "execution_count": 39,
     "metadata": {},
     "output_type": "execute_result"
    }
   ],
   "source": [
    "10**(9-7*5.1/2) > 50*(1/1.11111111111)"
   ]
  },
  {
   "cell_type": "code",
   "execution_count": 52,
   "metadata": {},
   "outputs": [
    {
     "data": {
      "text/plain": [
       "True"
      ]
     },
     "execution_count": 52,
     "metadata": {},
     "output_type": "execute_result"
    }
   ],
   "source": [
    "'Jonatan' == 'Jonatan'"
   ]
  },
  {
   "cell_type": "code",
   "execution_count": 53,
   "metadata": {},
   "outputs": [
    {
     "data": {
      "text/plain": [
       "True"
      ]
     },
     "execution_count": 53,
     "metadata": {},
     "output_type": "execute_result"
    }
   ],
   "source": [
    "10 > 5"
   ]
  },
  {
   "cell_type": "code",
   "execution_count": 54,
   "metadata": {},
   "outputs": [
    {
     "data": {
      "text/plain": [
       "False"
      ]
     },
     "execution_count": 54,
     "metadata": {},
     "output_type": "execute_result"
    }
   ],
   "source": [
    "10 < 5"
   ]
  },
  {
   "cell_type": "markdown",
   "metadata": {},
   "source": [
    "##### AND"
   ]
  },
  {
   "cell_type": "code",
   "execution_count": 41,
   "metadata": {},
   "outputs": [
    {
     "data": {
      "text/plain": [
       "False"
      ]
     },
     "execution_count": 41,
     "metadata": {},
     "output_type": "execute_result"
    }
   ],
   "source": [
    "10 > 50 and 3 > 2"
   ]
  },
  {
   "cell_type": "markdown",
   "metadata": {},
   "source": [
    "##### OR"
   ]
  },
  {
   "cell_type": "code",
   "execution_count": 45,
   "metadata": {},
   "outputs": [
    {
     "data": {
      "text/plain": [
       "False"
      ]
     },
     "execution_count": 45,
     "metadata": {},
     "output_type": "execute_result"
    }
   ],
   "source": [
    "10 > 50 or 3 > 20"
   ]
  },
  {
   "cell_type": "markdown",
   "metadata": {},
   "source": [
    "Ejemplo - Log In"
   ]
  },
  {
   "cell_type": "code",
   "execution_count": 59,
   "metadata": {},
   "outputs": [
    {
     "name": "stdout",
     "output_type": "stream",
     "text": [
      "username: jonatanblank\n",
      "password: dejameentrarpapi\n"
     ]
    },
    {
     "data": {
      "text/plain": [
       "True"
      ]
     },
     "execution_count": 59,
     "metadata": {},
     "output_type": "execute_result"
    }
   ],
   "source": [
    "usuario_real = 'jonatanblank'\n",
    "contraseña_real = 'dejameentrarpapi'\n",
    "\n",
    "username = input('username: ')\n",
    "password = input('password: ')\n",
    "\n",
    "usuario_real == username and contraseña_real == password"
   ]
  },
  {
   "cell_type": "markdown",
   "metadata": {},
   "source": [
    "#### Condicionales"
   ]
  },
  {
   "cell_type": "code",
   "execution_count": 75,
   "metadata": {},
   "outputs": [
    {
     "name": "stdout",
     "output_type": "stream",
     "text": [
      "Eres muy joven para entrar\n"
     ]
    }
   ],
   "source": [
    "edad = 10\n",
    "\n",
    "if edad > 17:\n",
    "    print('Puedes entrar al antro')\n",
    "else:\n",
    "    print('Eres muy joven para entrar')"
   ]
  },
  {
   "cell_type": "code",
   "execution_count": 76,
   "metadata": {},
   "outputs": [
    {
     "name": "stdout",
     "output_type": "stream",
     "text": [
      "username: jonatanblank\n",
      "password: dejameentrarpapi\n",
      "Puedes acceder!\n"
     ]
    }
   ],
   "source": [
    "usuario_real = 'jonatanblank'\n",
    "contraseña_real = 'dejameentrarpapi'\n",
    "\n",
    "username = input('username: ')\n",
    "password = input('password: ')\n",
    "\n",
    "if usuario_real == username and contraseña_real == password:\n",
    "    print('Puedes acceder!')\n",
    "else:\n",
    "    print('Usuario o contraseña incorrectos.')"
   ]
  },
  {
   "cell_type": "markdown",
   "metadata": {},
   "source": [
    "### Aplicación: Match Selector"
   ]
  },
  {
   "cell_type": "markdown",
   "metadata": {},
   "source": [
    "edad máxima: 45 años\n",
    "\n",
    "minimo aportar financieramente: $ 20,000\n",
    "\n",
    "minimo viajes al año: 5 viajes\n",
    "\n",
    "Suponemos que queremos que se cumplan al menos las 3 características mínimas"
   ]
  },
  {
   "cell_type": "code",
   "execution_count": 87,
   "metadata": {},
   "outputs": [
    {
     "name": "stdout",
     "output_type": "stream",
     "text": [
      "Ya estás más aya que paca... te pasaste por 1 años.\n"
     ]
    }
   ],
   "source": [
    "edad = 46\n",
    "apoyo = 20000\n",
    "viajes = 5\n",
    "\n",
    "criterio_edad = edad < 46\n",
    "criterio_apoyo = apoyo >= 20000\n",
    "criterio_viajes = viajes >= 5\n",
    "\n",
    "if criterio_edad and criterio_apoyo and criterio_viajes:\n",
    "    print('He seleccionado a mi papi de azucar... felicidades')\n",
    "else:\n",
    "    if criterio_edad and criterio_apoyo:\n",
    "        print(f'No cumples con los viajes mínimos. Te hacen falta {5-viajes} viajes')\n",
    "    if criterio_edad and criterio_viajes:\n",
    "        print(f'No me ofreces suficiente baro papi, dame {20000 - apoyo} pesitos más y si jala')\n",
    "    if criterio_apoyo and criterio_viajes:\n",
    "        print(f'Ya estás más aya que paca... te pasaste por {edad - 45} años.')"
   ]
  }
 ],
 "metadata": {
  "kernelspec": {
   "display_name": "Python 3",
   "language": "python",
   "name": "python3"
  },
  "language_info": {
   "codemirror_mode": {
    "name": "ipython",
    "version": 3
   },
   "file_extension": ".py",
   "mimetype": "text/x-python",
   "name": "python",
   "nbconvert_exporter": "python",
   "pygments_lexer": "ipython3",
   "version": "3.8.5"
  }
 },
 "nbformat": 4,
 "nbformat_minor": 4
}
