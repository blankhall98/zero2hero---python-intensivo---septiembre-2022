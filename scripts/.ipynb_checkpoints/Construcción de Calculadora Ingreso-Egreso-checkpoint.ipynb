{
 "cells": [
  {
   "cell_type": "markdown",
   "metadata": {},
   "source": [
    "# Construcción de Calculadora Ingreso-Egreso"
   ]
  },
  {
   "cell_type": "markdown",
   "metadata": {},
   "source": [
    "#### Librerías"
   ]
  },
  {
   "cell_type": "code",
   "execution_count": 1,
   "metadata": {},
   "outputs": [],
   "source": [
    "import numpy as np #manipulaciones numericas\n",
    "import pandas as pd #manipular bases de datos\n",
    "import matplotlib.pyplot as plt #crear bases de datos\n",
    "\n",
    "# seaborn - crear gráficas avanzadas\n",
    "# scipy - funciones matemáticas avanzadas\n",
    "# random - distribuciones de aleatoriedad\n",
    "# time - manipulación temporal"
   ]
  },
  {
   "cell_type": "markdown",
   "metadata": {},
   "source": [
    "#### Rutas del Proyecto\n",
    "\n",
    "Ruta: El camino desde el archivo que se está ejecutando, hasta la base de datos"
   ]
  },
  {
   "cell_type": "code",
   "execution_count": 2,
   "metadata": {},
   "outputs": [],
   "source": [
    "ruta = '../data/'"
   ]
  },
  {
   "cell_type": "markdown",
   "metadata": {},
   "source": [
    "#### Lectura de los Datos"
   ]
  },
  {
   "cell_type": "code",
   "execution_count": 12,
   "metadata": {},
   "outputs": [],
   "source": [
    "ingresos = pd.read_csv(ruta+'ingresos.csv')\n",
    "gastos = pd.read_csv(ruta+'gastos.csv')"
   ]
  },
  {
   "cell_type": "markdown",
   "metadata": {},
   "source": [
    "#### Visualización de los Datos"
   ]
  },
  {
   "cell_type": "code",
   "execution_count": 13,
   "metadata": {},
   "outputs": [
    {
     "data": {
      "text/html": [
       "<div>\n",
       "<style scoped>\n",
       "    .dataframe tbody tr th:only-of-type {\n",
       "        vertical-align: middle;\n",
       "    }\n",
       "\n",
       "    .dataframe tbody tr th {\n",
       "        vertical-align: top;\n",
       "    }\n",
       "\n",
       "    .dataframe thead th {\n",
       "        text-align: right;\n",
       "    }\n",
       "</style>\n",
       "<table border=\"1\" class=\"dataframe\">\n",
       "  <thead>\n",
       "    <tr style=\"text-align: right;\">\n",
       "      <th></th>\n",
       "      <th>fecha</th>\n",
       "      <th>monto</th>\n",
       "      <th>categoria</th>\n",
       "      <th>descripcion</th>\n",
       "    </tr>\n",
       "  </thead>\n",
       "  <tbody>\n",
       "    <tr>\n",
       "      <th>0</th>\n",
       "      <td>20-09-2022</td>\n",
       "      <td>300</td>\n",
       "      <td>pasivo</td>\n",
       "      <td>alumno zero2hero</td>\n",
       "    </tr>\n",
       "    <tr>\n",
       "      <th>1</th>\n",
       "      <td>21-09-2022</td>\n",
       "      <td>300</td>\n",
       "      <td>pasivo</td>\n",
       "      <td>alumno zero2hero</td>\n",
       "    </tr>\n",
       "    <tr>\n",
       "      <th>2</th>\n",
       "      <td>21-09-2022</td>\n",
       "      <td>300</td>\n",
       "      <td>pasivo</td>\n",
       "      <td>alumno zero2hero</td>\n",
       "    </tr>\n",
       "    <tr>\n",
       "      <th>3</th>\n",
       "      <td>22-09-2022</td>\n",
       "      <td>300</td>\n",
       "      <td>pasivo</td>\n",
       "      <td>alumno zero2hero</td>\n",
       "    </tr>\n",
       "    <tr>\n",
       "      <th>4</th>\n",
       "      <td>23-09-2022</td>\n",
       "      <td>15000</td>\n",
       "      <td>activo</td>\n",
       "      <td>nomina compañia software</td>\n",
       "    </tr>\n",
       "  </tbody>\n",
       "</table>\n",
       "</div>"
      ],
      "text/plain": [
       "        fecha  monto categoria               descripcion\n",
       "0  20-09-2022    300    pasivo          alumno zero2hero\n",
       "1  21-09-2022    300    pasivo          alumno zero2hero\n",
       "2  21-09-2022    300    pasivo          alumno zero2hero\n",
       "3  22-09-2022    300    pasivo          alumno zero2hero\n",
       "4  23-09-2022  15000    activo  nomina compañia software"
      ]
     },
     "execution_count": 13,
     "metadata": {},
     "output_type": "execute_result"
    }
   ],
   "source": [
    "ingresos"
   ]
  },
  {
   "cell_type": "code",
   "execution_count": 14,
   "metadata": {},
   "outputs": [
    {
     "data": {
      "text/html": [
       "<div>\n",
       "<style scoped>\n",
       "    .dataframe tbody tr th:only-of-type {\n",
       "        vertical-align: middle;\n",
       "    }\n",
       "\n",
       "    .dataframe tbody tr th {\n",
       "        vertical-align: top;\n",
       "    }\n",
       "\n",
       "    .dataframe thead th {\n",
       "        text-align: right;\n",
       "    }\n",
       "</style>\n",
       "<table border=\"1\" class=\"dataframe\">\n",
       "  <thead>\n",
       "    <tr style=\"text-align: right;\">\n",
       "      <th></th>\n",
       "      <th>fecha</th>\n",
       "      <th>monto</th>\n",
       "      <th>categoria</th>\n",
       "      <th>descripcion</th>\n",
       "    </tr>\n",
       "  </thead>\n",
       "  <tbody>\n",
       "    <tr>\n",
       "      <th>0</th>\n",
       "      <td>23-09-2022</td>\n",
       "      <td>400</td>\n",
       "      <td>variable</td>\n",
       "      <td>salida con amigos</td>\n",
       "    </tr>\n",
       "    <tr>\n",
       "      <th>1</th>\n",
       "      <td>23-09-2022</td>\n",
       "      <td>200</td>\n",
       "      <td>variable</td>\n",
       "      <td>cena con novia</td>\n",
       "    </tr>\n",
       "    <tr>\n",
       "      <th>2</th>\n",
       "      <td>23-09-2022</td>\n",
       "      <td>300</td>\n",
       "      <td>inversion</td>\n",
       "      <td>inscripcion a curso zero2hero</td>\n",
       "    </tr>\n",
       "  </tbody>\n",
       "</table>\n",
       "</div>"
      ],
      "text/plain": [
       "        fecha  monto  categoria                    descripcion\n",
       "0  23-09-2022    400   variable              salida con amigos\n",
       "1  23-09-2022    200   variable                 cena con novia\n",
       "2  23-09-2022    300  inversion  inscripcion a curso zero2hero"
      ]
     },
     "execution_count": 14,
     "metadata": {},
     "output_type": "execute_result"
    }
   ],
   "source": [
    "gastos"
   ]
  },
  {
   "cell_type": "markdown",
   "metadata": {},
   "source": [
    "#### Propiedades de un Data Frame"
   ]
  },
  {
   "cell_type": "code",
   "execution_count": 15,
   "metadata": {},
   "outputs": [
    {
     "data": {
      "text/plain": [
       "5"
      ]
     },
     "execution_count": 15,
     "metadata": {},
     "output_type": "execute_result"
    }
   ],
   "source": [
    "# Número de Renglones (observaciones)\n",
    "len(ingresos)"
   ]
  },
  {
   "cell_type": "code",
   "execution_count": 19,
   "metadata": {},
   "outputs": [
    {
     "data": {
      "text/plain": [
       "(5, 4)"
      ]
     },
     "execution_count": 19,
     "metadata": {},
     "output_type": "execute_result"
    }
   ],
   "source": [
    "#dimension del DataFrame\n",
    "ingresos.shape"
   ]
  },
  {
   "cell_type": "code",
   "execution_count": 22,
   "metadata": {},
   "outputs": [
    {
     "data": {
      "text/html": [
       "<div>\n",
       "<style scoped>\n",
       "    .dataframe tbody tr th:only-of-type {\n",
       "        vertical-align: middle;\n",
       "    }\n",
       "\n",
       "    .dataframe tbody tr th {\n",
       "        vertical-align: top;\n",
       "    }\n",
       "\n",
       "    .dataframe thead th {\n",
       "        text-align: right;\n",
       "    }\n",
       "</style>\n",
       "<table border=\"1\" class=\"dataframe\">\n",
       "  <thead>\n",
       "    <tr style=\"text-align: right;\">\n",
       "      <th></th>\n",
       "      <th>fecha</th>\n",
       "      <th>monto</th>\n",
       "      <th>categoria</th>\n",
       "      <th>descripcion</th>\n",
       "    </tr>\n",
       "  </thead>\n",
       "  <tbody>\n",
       "    <tr>\n",
       "      <th>0</th>\n",
       "      <td>20-09-2022</td>\n",
       "      <td>300</td>\n",
       "      <td>pasivo</td>\n",
       "      <td>alumno zero2hero</td>\n",
       "    </tr>\n",
       "  </tbody>\n",
       "</table>\n",
       "</div>"
      ],
      "text/plain": [
       "        fecha  monto categoria       descripcion\n",
       "0  20-09-2022    300    pasivo  alumno zero2hero"
      ]
     },
     "execution_count": 22,
     "metadata": {},
     "output_type": "execute_result"
    }
   ],
   "source": [
    "#primeros elementos de un Data Frame\n",
    "ingresos.head(1)"
   ]
  },
  {
   "cell_type": "code",
   "execution_count": 23,
   "metadata": {},
   "outputs": [
    {
     "data": {
      "text/html": [
       "<div>\n",
       "<style scoped>\n",
       "    .dataframe tbody tr th:only-of-type {\n",
       "        vertical-align: middle;\n",
       "    }\n",
       "\n",
       "    .dataframe tbody tr th {\n",
       "        vertical-align: top;\n",
       "    }\n",
       "\n",
       "    .dataframe thead th {\n",
       "        text-align: right;\n",
       "    }\n",
       "</style>\n",
       "<table border=\"1\" class=\"dataframe\">\n",
       "  <thead>\n",
       "    <tr style=\"text-align: right;\">\n",
       "      <th></th>\n",
       "      <th>fecha</th>\n",
       "      <th>monto</th>\n",
       "      <th>categoria</th>\n",
       "      <th>descripcion</th>\n",
       "    </tr>\n",
       "  </thead>\n",
       "  <tbody>\n",
       "    <tr>\n",
       "      <th>4</th>\n",
       "      <td>23-09-2022</td>\n",
       "      <td>15000</td>\n",
       "      <td>activo</td>\n",
       "      <td>nomina compañia software</td>\n",
       "    </tr>\n",
       "  </tbody>\n",
       "</table>\n",
       "</div>"
      ],
      "text/plain": [
       "        fecha  monto categoria               descripcion\n",
       "4  23-09-2022  15000    activo  nomina compañia software"
      ]
     },
     "execution_count": 23,
     "metadata": {},
     "output_type": "execute_result"
    }
   ],
   "source": [
    "#ultimos elementos de un Data Frame\n",
    "ingresos.tail(1)"
   ]
  },
  {
   "cell_type": "markdown",
   "metadata": {},
   "source": [
    "#### Acceder a los elementos de un Data Frame"
   ]
  },
  {
   "cell_type": "code",
   "execution_count": 26,
   "metadata": {},
   "outputs": [
    {
     "data": {
      "text/plain": [
       "0      300\n",
       "1      300\n",
       "2      300\n",
       "3      300\n",
       "4    15000\n",
       "Name: monto, dtype: int64"
      ]
     },
     "execution_count": 26,
     "metadata": {},
     "output_type": "execute_result"
    }
   ],
   "source": [
    "# Acceder a una columna\n",
    "ingresos['monto']"
   ]
  },
  {
   "cell_type": "code",
   "execution_count": 27,
   "metadata": {},
   "outputs": [
    {
     "data": {
      "text/plain": [
       "0    400\n",
       "1    200\n",
       "2    300\n",
       "Name: monto, dtype: int64"
      ]
     },
     "execution_count": 27,
     "metadata": {},
     "output_type": "execute_result"
    }
   ],
   "source": [
    "gastos['monto']"
   ]
  },
  {
   "cell_type": "code",
   "execution_count": 32,
   "metadata": {},
   "outputs": [
    {
     "name": "stdout",
     "output_type": "stream",
     "text": [
      "Total Ingresos: 16200, Total Gastos: 900, Diferencia: 15300\n"
     ]
    }
   ],
   "source": [
    "total_ingresos = ingresos['monto'].sum()\n",
    "total_gastos = gastos['monto'].sum()\n",
    "\n",
    "print(f'Total Ingresos: {total_ingresos}, Total Gastos: {total_gastos}, Diferencia: {total_ingresos - total_gastos}')"
   ]
  },
  {
   "cell_type": "code",
   "execution_count": 35,
   "metadata": {},
   "outputs": [
    {
     "data": {
      "text/plain": [
       "fecha                20-09-2022\n",
       "monto                       300\n",
       "categoria                pasivo\n",
       "descripcion    alumno zero2hero\n",
       "Name: 0, dtype: object"
      ]
     },
     "execution_count": 35,
     "metadata": {},
     "output_type": "execute_result"
    }
   ],
   "source": [
    "# Acceder a un renglon\n",
    "ingresos.loc[0]"
   ]
  },
  {
   "cell_type": "markdown",
   "metadata": {},
   "source": [
    "#### Agregar elementos nuevos a un Data Frame"
   ]
  },
  {
   "cell_type": "code",
   "execution_count": 44,
   "metadata": {},
   "outputs": [],
   "source": [
    "n = len(ingresos)\n",
    "\n",
    "ingresos.loc[n] = ['24-09-2022',300,'pasivo','alumno zero2hero']"
   ]
  },
  {
   "cell_type": "code",
   "execution_count": 45,
   "metadata": {},
   "outputs": [
    {
     "data": {
      "text/html": [
       "<div>\n",
       "<style scoped>\n",
       "    .dataframe tbody tr th:only-of-type {\n",
       "        vertical-align: middle;\n",
       "    }\n",
       "\n",
       "    .dataframe tbody tr th {\n",
       "        vertical-align: top;\n",
       "    }\n",
       "\n",
       "    .dataframe thead th {\n",
       "        text-align: right;\n",
       "    }\n",
       "</style>\n",
       "<table border=\"1\" class=\"dataframe\">\n",
       "  <thead>\n",
       "    <tr style=\"text-align: right;\">\n",
       "      <th></th>\n",
       "      <th>fecha</th>\n",
       "      <th>monto</th>\n",
       "      <th>categoria</th>\n",
       "      <th>descripcion</th>\n",
       "    </tr>\n",
       "  </thead>\n",
       "  <tbody>\n",
       "    <tr>\n",
       "      <th>0</th>\n",
       "      <td>20-09-2022</td>\n",
       "      <td>300</td>\n",
       "      <td>pasivo</td>\n",
       "      <td>alumno zero2hero</td>\n",
       "    </tr>\n",
       "    <tr>\n",
       "      <th>1</th>\n",
       "      <td>21-09-2022</td>\n",
       "      <td>300</td>\n",
       "      <td>pasivo</td>\n",
       "      <td>alumno zero2hero</td>\n",
       "    </tr>\n",
       "    <tr>\n",
       "      <th>2</th>\n",
       "      <td>21-09-2022</td>\n",
       "      <td>300</td>\n",
       "      <td>pasivo</td>\n",
       "      <td>alumno zero2hero</td>\n",
       "    </tr>\n",
       "    <tr>\n",
       "      <th>3</th>\n",
       "      <td>22-09-2022</td>\n",
       "      <td>300</td>\n",
       "      <td>pasivo</td>\n",
       "      <td>alumno zero2hero</td>\n",
       "    </tr>\n",
       "    <tr>\n",
       "      <th>4</th>\n",
       "      <td>23-09-2022</td>\n",
       "      <td>15000</td>\n",
       "      <td>activo</td>\n",
       "      <td>nomina compañia software</td>\n",
       "    </tr>\n",
       "    <tr>\n",
       "      <th>5</th>\n",
       "      <td>24-09-2022</td>\n",
       "      <td>300</td>\n",
       "      <td>pasivo</td>\n",
       "      <td>alumno zero2hero</td>\n",
       "    </tr>\n",
       "    <tr>\n",
       "      <th>6</th>\n",
       "      <td>24-09-2022</td>\n",
       "      <td>300</td>\n",
       "      <td>pasivo</td>\n",
       "      <td>alumno zero2hero</td>\n",
       "    </tr>\n",
       "  </tbody>\n",
       "</table>\n",
       "</div>"
      ],
      "text/plain": [
       "        fecha  monto categoria               descripcion\n",
       "0  20-09-2022    300    pasivo          alumno zero2hero\n",
       "1  21-09-2022    300    pasivo          alumno zero2hero\n",
       "2  21-09-2022    300    pasivo          alumno zero2hero\n",
       "3  22-09-2022    300    pasivo          alumno zero2hero\n",
       "4  23-09-2022  15000    activo  nomina compañia software\n",
       "5  24-09-2022    300    pasivo          alumno zero2hero\n",
       "6  24-09-2022    300    pasivo          alumno zero2hero"
      ]
     },
     "execution_count": 45,
     "metadata": {},
     "output_type": "execute_result"
    }
   ],
   "source": [
    "ingresos"
   ]
  },
  {
   "cell_type": "markdown",
   "metadata": {},
   "source": [
    "#### Guardar el Data Frame"
   ]
  },
  {
   "cell_type": "code",
   "execution_count": 46,
   "metadata": {},
   "outputs": [],
   "source": [
    "ingresos.to_csv(ruta+'ingresos.csv',index=False)\n",
    "gastos.to_csv(ruta+'gastos.csv',index=False)"
   ]
  },
  {
   "cell_type": "markdown",
   "metadata": {},
   "source": [
    "## Calculadora Ingreso-Egreso"
   ]
  },
  {
   "cell_type": "code",
   "execution_count": 61,
   "metadata": {},
   "outputs": [],
   "source": [
    "#inputs\n",
    "inputs = {\n",
    "    'ruta': '../data/',\n",
    "    'archivo ingresos': 'ingresos.csv',\n",
    "    'archivo gastos': 'gastos.csv'\n",
    "}"
   ]
  },
  {
   "cell_type": "code",
   "execution_count": 60,
   "metadata": {},
   "outputs": [
    {
     "data": {
      "text/plain": [
       "'../data/gastos.csv'"
      ]
     },
     "execution_count": 60,
     "metadata": {},
     "output_type": "execute_result"
    }
   ],
   "source": [
    "inputs['ruta']+inputs['archivo gastos']"
   ]
  },
  {
   "cell_type": "code",
   "execution_count": 97,
   "metadata": {},
   "outputs": [],
   "source": [
    "#construccion de la clase 'calculadora'\n",
    "class Calculadora:\n",
    "    \n",
    "    def __init__(self,inputs):\n",
    "        \n",
    "        self.inputs = inputs\n",
    "        print('Calculadora Activa!')\n",
    "        \n",
    "        self.leer_ingresos()\n",
    "        self.leer_gastos()\n",
    "        print('Bases de Datos leidas con exito')\n",
    "    \n",
    "    #Leer la base de datos ingresos\n",
    "    def leer_ingresos(self):\n",
    "        self.ingresos = pd.read_csv(self.inputs['ruta']+self.inputs['archivo ingresos'])\n",
    "    \n",
    "    #Leer la base de datos gastos\n",
    "    def leer_gastos(self):\n",
    "        self.gastos = pd.read_csv(self.inputs['ruta']+self.inputs['archivo gastos'])\n",
    "    \n",
    "    #Calcula los gastos totales usando la columna monto\n",
    "    def gastos_totales(self):\n",
    "        total = self.gastos['monto'].sum()\n",
    "        media = self.gastos['monto'].mean()\n",
    "        sd = np.sqrt(self.gastos['monto'].var())\n",
    "        print(f'Tus gastos totales son de ${total}')\n",
    "        print(f'El gasto promedio fue de ${media} con una desviación estandar de ${sd}')\n",
    "        print('\\n')\n",
    "        \n",
    "        #reporte gráfico\n",
    "        plt.figure()\n",
    "        \n",
    "        plt.title('Histograma de Gastos')\n",
    "        plt.hist(self.gastos['monto'])\n",
    "        \n",
    "        plt.show()\n",
    "        \n",
    "        return total\n",
    "    \n",
    "    #Calcula los ingresos totales usando la columna monto\n",
    "    def ingresos_totales(self):\n",
    "        total = self.ingresos['monto'].sum()\n",
    "        media = self.ingresos['monto'].mean()\n",
    "        sd = np.sqrt(self.ingresos['monto'].var())\n",
    "        print(f'Tus ingresos totales son de ${total}')\n",
    "        print(f'El ingreso promedio fue de ${media} con una desviación estandar de ${sd}')\n",
    "        print('\\n')\n",
    "        \n",
    "        #reporte gráfico\n",
    "        plt.figure()\n",
    "        \n",
    "        plt.title('Histograma de Ingresos')\n",
    "        plt.hist(self.ingresos['monto'])\n",
    "        \n",
    "        plt.show()\n",
    "        \n",
    "        return total\n",
    "    \n",
    "    #Utilizando gastos e ingresos totales, imprime reporte de balance\n",
    "    def reporte(self):\n",
    "        gt = self.gastos_totales()\n",
    "        it = self.ingresos_totales()\n",
    "        print(f'Tu balance es ${it} - ${gt} = ${it-gt}')\n",
    "        \n",
    "    #Agregar nuevos gastos a la base\n",
    "    def agregar_gasto(self,obs):\n",
    "        n = len(self.gastos)\n",
    "        self.gastos.loc[n] = obs\n",
    "        self.gastos.to_csv(self.inputs['ruta']+self.inputs['archivo gastos'],index=False)\n",
    "        print('Dato Guardado con Exito!')\n",
    "    \n",
    "    #Agregar nuevos ingresos a la base\n",
    "    def agregar_ingreso(self,obs):\n",
    "        n = len(self.ingresos)\n",
    "        self.ingresos.loc[n] = obs\n",
    "        self.ingresos.to_csv(self.inputs['ruta']+self.inputs['archivo ingresos'],index=False)\n",
    "        print('Dato Guardado con Exito!')"
   ]
  },
  {
   "cell_type": "code",
   "execution_count": 98,
   "metadata": {},
   "outputs": [
    {
     "name": "stdout",
     "output_type": "stream",
     "text": [
      "Calculadora Activa!\n",
      "Bases de Datos leidas con exito\n"
     ]
    }
   ],
   "source": [
    "#instancia y manipulación de la clase\n",
    "IE = Calculadora(inputs)"
   ]
  },
  {
   "cell_type": "code",
   "execution_count": 99,
   "metadata": {},
   "outputs": [
    {
     "name": "stdout",
     "output_type": "stream",
     "text": [
      "Tus gastos totales son de $1500\n",
      "El gasto promedio fue de $375.0 con una desviación estandar de $170.78251276599332\n",
      "\n",
      "\n"
     ]
    },
    {
     "data": {
      "image/png": "[encoded data removed]",
      "text/plain": [
       "<Figure size 432x288 with 1 Axes>"
      ]
     },
     "metadata": {
      "needs_background": "light"
     },
     "output_type": "display_data"
    },
    {
     "name": "stdout",
     "output_type": "stream",
     "text": [
      "Tus ingresos totales son de $16800\n",
      "El ingreso promedio fue de $2400.0 con una desviación estandar de $5556.077753235641\n",
      "\n",
      "\n"
     ]
    },
    {
     "data": {
      "image/png": "[encoded data removed]",
      "text/plain": [
       "<Figure size 432x288 with 1 Axes>"
      ]
     },
     "metadata": {
      "needs_background": "light"
     },
     "output_type": "display_data"
    },
    {
     "name": "stdout",
     "output_type": "stream",
     "text": [
      "Tu balance es $16800 - $1500 = $15300\n"
     ]
    }
   ],
   "source": [
    "IE.reporte()"
   ]
  },
  {
   "cell_type": "code",
   "execution_count": 85,
   "metadata": {},
   "outputs": [
    {
     "name": "stdout",
     "output_type": "stream",
     "text": [
      "Dato Guardado con Exito!\n"
     ]
    }
   ],
   "source": [
    "IE.agregar_gasto(['24-09-2022',600,'fijo','compra de despensa'])"
   ]
  }
 ],
 "metadata": {
  "kernelspec": {
   "display_name": "Python 3",
   "language": "python",
   "name": "python3"
  },
  "language_info": {
   "codemirror_mode": {
    "name": "ipython",
    "version": 3
   },
   "file_extension": ".py",
   "mimetype": "text/x-python",
   "name": "python",
   "nbconvert_exporter": "python",
   "pygments_lexer": "ipython3",
   "version": "3.8.5"
  }
 },
 "nbformat": 4,
 "nbformat_minor": 4
}
